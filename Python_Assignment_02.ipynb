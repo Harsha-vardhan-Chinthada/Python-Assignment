{
  "nbformat": 4,
  "nbformat_minor": 0,
  "metadata": {
    "colab": {
      "provenance": [],
      "collapsed_sections": [],
      "authorship_tag": "ABX9TyOlJrgB1vpiyAI29W+JPwH/",
      "include_colab_link": true
    },
    "kernelspec": {
      "name": "python3",
      "display_name": "Python 3"
    },
    "language_info": {
      "name": "python"
    }
  },
  "cells": [
    {
      "cell_type": "markdown",
      "metadata": {
        "id": "view-in-github",
        "colab_type": "text"
      },
      "source": [
        "<a href=\"https://colab.research.google.com/github/Harsha-vardhan-Chinthada/Python-Assignment/blob/main/Python_Assignment_02.ipynb\" target=\"_parent\"><img src=\"https://colab.research.google.com/assets/colab-badge.svg\" alt=\"Open In Colab\"/></a>"
      ]
    },
    {
      "cell_type": "markdown",
      "source": [
        "#### 1.What are the two values of the Boolean data type? How do you write them?\n",
        "The two values of Boolean data type are true and false.         \n",
        "We write them as 'True' and 'False' by giving first letter of them as capital and remaining letters as small."
      ],
      "metadata": {
        "id": "WOujiHMpCRCt"
      }
    },
    {
      "cell_type": "markdown",
      "source": [
        "#### 2. What are the three different types of Boolean operators?\n",
        "##### The three different types of Boolean operators are 'and' , 'or' & 'not'."
      ],
      "metadata": {
        "id": "996EliLVDSYF"
      }
    },
    {
      "cell_type": "markdown",
      "source": [
        "#### 3. Make a list of each Boolean operator's truth tables (i.e. every possible combination of Boolean values for the operator and what it evaluate ).\n",
        "##### True and True is True.\n",
        "\n",
        "True and False is False.\n",
        "\n",
        "False and True is False.\n",
        "\n",
        "False and False is False.\n",
        "\n",
        "True or True is True.\n",
        "\n",
        "True or False is True.\n",
        "\n",
        "False or True is True.\n",
        "\n",
        "False or False is False.\n",
        "\n",
        "not True is False.\n",
        "\n",
        "not False is True."
      ],
      "metadata": {
        "id": "W4sTs--hD8gd"
      }
    },
    {
      "cell_type": "markdown",
      "source": [
        "#### 4. What are the values of the following expressions?\n",
        "#### (5 > 4) and (3 == 5)\n",
        "#### not (5 > 4)\n",
        "#### (5 > 4) or (3 == 5)\n",
        "#### not ((5 > 4) or (3 == 5))\n",
        "#### (True and True) and (True == False)\n",
        "#### (not False) or (not True)\n",
        "##### \n",
        "(5 > 4) and (3 == 5)                ---> False       \n",
        "not (5 > 4)                         ---> False           \n",
        "(5 > 4) or (3 == 5)                 ---> True                \n",
        "not ((5 > 4) or (3 == 5))           ---> False           \n",
        "(True and True) and (True == False) ---> False         \n",
        "(not False) or (not True)           ---> True            \n",
        "\n"
      ],
      "metadata": {
        "id": "OxkPaCMZETm2"
      }
    },
    {
      "cell_type": "markdown",
      "source": [
        "#### 5. What are the six comparison operators?\n",
        "##### '=='   Equal to,\n",
        "'!='  Not equal to,           \n",
        "'<'   Less than,          \n",
        "'>'   Greater than,            \n",
        "'<='  Less than or equal to,                \n",
        "and '>='  Greater than or equal to"
      ],
      "metadata": {
        "id": "2m3f6_MhFny8"
      }
    },
    {
      "cell_type": "markdown",
      "source": [
        "#### 6. How do you tell the difference between the equal to and assignment operators?Describe a condition and when you would use one.\n",
        "##### == is the equal to operator that compares two values and evaluates to a Boolean, while = is the assignment operator that stores a value in a variable."
      ],
      "metadata": {
        "id": "puT4pWHKGjER"
      }
    },
    {
      "cell_type": "markdown",
      "source": [
        "#### 7. Identify the three blocks in this code:\n",
        "spam = 0          \n",
        "if spam == 10:         \n",
        "print('eggs')              \n",
        "if spam > 5:           \n",
        "print('bacon')                \n",
        "else:                \n",
        "print('ham')                \n",
        "print('spam')          \n",
        "print('spam')\n",
        "##### The three blocks are everything inside the if statement and the lines print('bacon') and print('ham').\n",
        "print('eggs')                \n",
        "if spam > 5:                \n",
        "print('bacon')                  \n",
        "else:                    \n",
        "print('ham')                 \n",
        "print('spam')                      \n"
      ],
      "metadata": {
        "id": "wNMSbymXGv1b"
      }
    },
    {
      "cell_type": "code",
      "source": [
        "\"\"\" 8. Write code that prints Hello if 1 is stored in spam, prints Howdy if 2 is stored in spam, and prints Greetings! if anything else is stored in spam. \"\"\"\n",
        "spam = \"\"\n",
        "if spam == 1:\n",
        "  print('Hello')\n",
        "elif spam == 2:\n",
        "  print('Howdy')\n",
        "else:\n",
        "  print('Greetings!')\n"
      ],
      "metadata": {
        "id": "JV6PlcUMIyX0"
      },
      "execution_count": null,
      "outputs": []
    },
    {
      "cell_type": "markdown",
      "source": [
        "#### 9.If your programme is stuck in an endless loop, what keys you’ll press?\n",
        "##### I will Press CTRL-C to stop a program stuck in an infinite loop."
      ],
      "metadata": {
        "id": "NLskwgUiKF7w"
      }
    },
    {
      "cell_type": "markdown",
      "source": [
        "#### 10. How can you tell the difference between break and continue?\n",
        "##### The break statement will move the execution outside and just after a loop.            \n",
        " The continue statement will move the execution to the start of the loop."
      ],
      "metadata": {
        "id": "7sTrg-tiKQ3n"
      }
    },
    {
      "cell_type": "markdown",
      "source": [
        "#### 11. In a for loop, what is the difference between range(10), range(0, 10), and range(0, 10, 1)?\n",
        "##### They all do the same thing. \n",
        "The range(10) call ranges from 0 up to but not including 10.      \n",
        "Range(0, 10) explicitly tells the loop to start at 0.             \n",
        "And range(0, 10, 1) explicitly tells the loop to increase the variable by 1 on each iteration."
      ],
      "metadata": {
        "id": "vbGB_REoKjhc"
      }
    },
    {
      "cell_type": "code",
      "source": [
        "\"\"\" 12. Write a short program that prints the numbers 1 to 10 using a for loop. Then write an equivalent program that prints the numbers 1 to 10 using a while loop. \"\"\"\n",
        "# Using for loop\n",
        "for i in range(1, 11):\n",
        "  print(i)\n",
        "\n",
        "# using while loop\n",
        "i = 1\n",
        "while i <= 10:\n",
        "  print(i)\n",
        "  i = i + 1"
      ],
      "metadata": {
        "id": "zMwa9CSoKQEC"
      },
      "execution_count": null,
      "outputs": []
    },
    {
      "cell_type": "markdown",
      "source": [
        "#### 13. If you had a function named bacon() inside a module named spam, how would you call it after importing spam?\n",
        "\n",
        "##### The function can be called by spam.bacon()"
      ],
      "metadata": {
        "id": "acuxgXd1L749"
      }
    }
  ]
}