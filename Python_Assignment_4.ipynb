{
  "nbformat": 4,
  "nbformat_minor": 0,
  "metadata": {
    "colab": {
      "provenance": [],
      "collapsed_sections": [],
      "authorship_tag": "ABX9TyOyfGmiAR6RCQR5et/ivaeX",
      "include_colab_link": true
    },
    "kernelspec": {
      "name": "python3",
      "display_name": "Python 3"
    },
    "language_info": {
      "name": "python"
    }
  },
  "cells": [
    {
      "cell_type": "markdown",
      "metadata": {
        "id": "view-in-github",
        "colab_type": "text"
      },
      "source": [
        "<a href=\"https://colab.research.google.com/github/Harsha-vardhan-Chinthada/Python-Assignment/blob/main/Python_Assignment_4.ipynb\" target=\"_parent\"><img src=\"https://colab.research.google.com/assets/colab-badge.svg\" alt=\"Open In Colab\"/></a>"
      ]
    },
    {
      "cell_type": "markdown",
      "source": [
        "### Python Programming Assignment 4"
      ],
      "metadata": {
        "id": "_8G3r7sdvFll"
      }
    },
    {
      "cell_type": "code",
      "execution_count": null,
      "metadata": {
        "id": "bLSrY161vCWT"
      },
      "outputs": [],
      "source": [
        "# 1. Write a Python Program to Find the Factorial of a Number?\n",
        "\n",
        "n = int(input(\"Please enter a number: \"))\n",
        "def factorial(n):\n",
        "  return 1 if (n==1 or n==0) else n*factorial(n-1)\n",
        "print(\"Factorial of\",n,\"is\",factorial(n))\n",
        "\n",
        "# Using math function\n",
        "import math\n",
        "n = int(input(\"Please enter a number: \"))\n",
        "def factorial(n):\n",
        "  return math.factorial(n)\n",
        "print(\"Factorial of\",n,\"is\",factorial(n))\n"
      ]
    },
    {
      "cell_type": "code",
      "source": [
        "# 2. Write a Python Program to Display the multiplication Table?\n",
        "\n",
        "n = int(input(\"Please enter a number: \"))\n",
        "for i in range(1,21):\n",
        "  print(n,\"x\",i,\"=\",n*i)\n",
        "\n"
      ],
      "metadata": {
        "id": "lNqmO7qr0t8c"
      },
      "execution_count": null,
      "outputs": []
    },
    {
      "cell_type": "code",
      "source": [
        "# 3. Write a Python Program to Print the Fibonacci sequence?\n",
        "\n",
        "n = int(input(\"Please enter a number: \"))\n",
        "\n",
        "def Fibonacci(n):\n",
        "  a = 0\n",
        "  b = 1\n",
        "  if n < 0:\n",
        "    return 0\n",
        "  elif n == 1 and n == 2:\n",
        "    return b\n",
        "  else:\n",
        "    for i in range(1,n):\n",
        "      c = a+b\n",
        "      a = b\n",
        "      b = c\n",
        "    return b\n",
        "print(Fibonacci(n))\n",
        "\n"
      ],
      "metadata": {
        "id": "UAmWIer31uSC"
      },
      "execution_count": null,
      "outputs": []
    },
    {
      "cell_type": "code",
      "source": [
        "# 4. Write a Python Program to Check Armstrong Number?\n",
        "\n",
        "n = int(input(\"Please enter a number: \"))\n",
        "s = n\n",
        "d = len(str(n))\n",
        "sum = 0\n",
        "while n>0:\n",
        "  r = n%10\n",
        "  sum = sum+(r**d)\n",
        "  n = n//10\n",
        "if (sum == s):\n",
        "  print(f\"{s} is an Armstrong Number\")\n",
        "else:\n",
        "  print(f\"{s} is not an Armstrong Number\")\n"
      ],
      "metadata": {
        "id": "qsBVqjuN67Jg"
      },
      "execution_count": null,
      "outputs": []
    },
    {
      "cell_type": "code",
      "source": [
        "# 5. Write a Python Program to Find Armstrong Number in an Interval?\n",
        "\n",
        "a = int(input(\"Please enter the lower limit: \"))\n",
        "b = int(input(\"Please enter the upper limit: \"))\n",
        "for i in range(a, b):\n",
        "  s = i\n",
        "  d = len(str(i))\n",
        "  sum = 0\n",
        "  while i>0:\n",
        "    r = i%10\n",
        "    sum = sum+(r**d)\n",
        "    i = i//10\n",
        "  if (sum == s):\n",
        "    print(f\"{s} is an Armstrong Number\")\n",
        "  else:\n",
        "    continue\n"
      ],
      "metadata": {
        "id": "JVnL-_4lAdlz"
      },
      "execution_count": null,
      "outputs": []
    },
    {
      "cell_type": "code",
      "source": [
        "# 6. Write a Python Program to Find the Sum of Natural Numbers?\n",
        "\n",
        "n = int(input(\"Please enter a number: \"))\n",
        "if n <= 0:\n",
        "  print(\"Incorrect input.\")\n",
        "else :\n",
        "  Sn = ((n*(n+1))/2)\n",
        "  print(f\"Sum of {n} Natural numbers is {Sn}.\")\n",
        "\n"
      ],
      "metadata": {
        "id": "XV7LpgJxF-fI"
      },
      "execution_count": null,
      "outputs": []
    }
  ]
}