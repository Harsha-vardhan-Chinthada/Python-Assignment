{
  "nbformat": 4,
  "nbformat_minor": 0,
  "metadata": {
    "colab": {
      "provenance": [],
      "collapsed_sections": [],
      "authorship_tag": "ABX9TyN6tehIkmYTURbqfKoEfIJ4",
      "include_colab_link": true
    },
    "kernelspec": {
      "name": "python3",
      "display_name": "Python 3"
    },
    "language_info": {
      "name": "python"
    }
  },
  "cells": [
    {
      "cell_type": "markdown",
      "metadata": {
        "id": "view-in-github",
        "colab_type": "text"
      },
      "source": [
        "<a href=\"https://colab.research.google.com/github/Harsha-vardhan-Chinthada/Python-Assignment/blob/main/Python_Assignment_3.ipynb\" target=\"_parent\"><img src=\"https://colab.research.google.com/assets/colab-badge.svg\" alt=\"Open In Colab\"/></a>"
      ]
    },
    {
      "cell_type": "markdown",
      "source": [
        "### Python Programming Assignment 3"
      ],
      "metadata": {
        "id": "3Vr8gdJyi-NX"
      }
    },
    {
      "cell_type": "code",
      "execution_count": null,
      "metadata": {
        "id": "0nHo_Ya6aWye"
      },
      "outputs": [],
      "source": [
        "# 1. Write a Python Program to Check if a Number is Positive, Negative or Zero?\n",
        "\n",
        "number = int(input(\"Please enter a number: \"))\n",
        "\n",
        "if number == 0:\n",
        "  print(\"The number you have entered is Zero. \",number)\n",
        "elif number>0:\n",
        "  print(\"The number you have entered is a Positive Number. \",number)\n",
        "else:\n",
        "  print(\"The number you have entered is a Negative Number. \",number) \n",
        "\n"
      ]
    },
    {
      "cell_type": "code",
      "source": [
        "# 2. Write a Python Program to Check if a Number is Odd or Even?\n",
        "\n",
        "number = int(input(\"Please enter a number: \"))\n",
        "if number == 0:\n",
        "  print(\"You have entered Zero. \",number)\n",
        "\n",
        "elif number%2==0:\n",
        "  print(\"The number you have entered is an Even Number. \",number)\n",
        "\n",
        "else :\n",
        "  print(\"You have entered an Odd Number. \",number)\n",
        "\n"
      ],
      "metadata": {
        "id": "smt3YEc6cqKD"
      },
      "execution_count": null,
      "outputs": []
    },
    {
      "cell_type": "code",
      "source": [
        "# 3. Write a Python Program to Check Leap Year?\n",
        "\n",
        "year = int(input(\"Enter the Year: \"))\n",
        "if year%4==0:\n",
        "  if year%100==0 and year%400!=0:\n",
        "    print(f\"The year {year} is not a Leap Year.\")\n",
        "  else:\n",
        "    print(f\"The year {year} is a Leap Year.\")\n",
        "else:\n",
        "  print(f\"The year {year} is not a Leap Year.\")\n",
        "  \n"
      ],
      "metadata": {
        "id": "KbQAkiVId4uV"
      },
      "execution_count": null,
      "outputs": []
    },
    {
      "cell_type": "code",
      "source": [
        "# 4. Write a Python Program to Check Prime Number?\n",
        "\n",
        "p = int(input(\"Please enter a number: \"))\n",
        "\n",
        "if p > 1:\n",
        "  for i in range(2, int(p/2)+1):\n",
        "    if (p % i) == 0 :\n",
        "      print(f\"{p} is a not Prime Number.\")\n",
        "      break\n",
        "  else:\n",
        "    print(f\"{p} is a Prime Number.\")\n",
        "else:\n",
        "  print(f\"{p} is a not Prime Number.\")\n"
      ],
      "metadata": {
        "id": "VdMnMOmPffP9"
      },
      "execution_count": null,
      "outputs": []
    },
    {
      "cell_type": "code",
      "source": [
        "# 5. Write a Python Program to Print all Prime Numbers in an Interval of 1-10000?\n",
        "\n",
        "a = 1\n",
        "b = 10000\n",
        "for num in range(a,b+1):\n",
        "  if num > 1:\n",
        "    for i in range(2, num):\n",
        "      if (num%i) == 0:\n",
        "        break\n",
        "    else:\n",
        "      print(num)\n"
      ],
      "metadata": {
        "id": "oYpzW5HsqNV_"
      },
      "execution_count": null,
      "outputs": []
    },
    {
      "cell_type": "code",
      "source": [],
      "metadata": {
        "id": "My91vIJJteQb"
      },
      "execution_count": null,
      "outputs": []
    }
  ]
}