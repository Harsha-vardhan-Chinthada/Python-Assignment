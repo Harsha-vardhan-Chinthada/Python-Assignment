{
  "nbformat": 4,
  "nbformat_minor": 0,
  "metadata": {
    "colab": {
      "provenance": [],
      "authorship_tag": "ABX9TyP8byUdC/B3bJSXmSldPCoQ",
      "include_colab_link": true
    },
    "kernelspec": {
      "name": "python3",
      "display_name": "Python 3"
    },
    "language_info": {
      "name": "python"
    }
  },
  "cells": [
    {
      "cell_type": "markdown",
      "metadata": {
        "id": "view-in-github",
        "colab_type": "text"
      },
      "source": [
        "<a href=\"https://colab.research.google.com/github/Harsha-vardhan-Chinthada/Python-Assignment/blob/main/Python_Assignment_08.ipynb\" target=\"_parent\"><img src=\"https://colab.research.google.com/assets/colab-badge.svg\" alt=\"Open In Colab\"/></a>"
      ]
    },
    {
      "cell_type": "markdown",
      "source": [
        "### Assignment_08\n",
        "#### 1. Is the Python Standard Library included with PyInputPlus?\n",
        "##### Ans: PyInputPlus is not a part of the Python Standard Library, we must install it separately using Pip.\n",
        "\n",
        "#### 2. Why is PyInputPlus commonly imported with import pyinputplus as pypi?\n",
        "##### Ans: You can import the module with import pyinputplus as pyip so that you can enter a shorter name when calling the module’s functions.\n",
        "\n",
        "#### 3. How do you distinguish between inputInt() and inputFloat()?\n",
        "##### Ans: inputInt() : Accepts an integer value. Returns an int. \n",
        "inputFloat() : Accepts a floating-point numeric value.\n",
        "\n",
        "#### 4. Using PyInputPlus, how do you ensure that the user enters a whole number between 0 and 99?\n",
        "##### Ans: By using pyip.inputint(min=0, max=99).\n",
        "\n",
        "#### 5. What is transferred to the keyword arguments allowRegexes and blockRegexes?\n",
        "##### Ans: We can also use regular expressions to specify whether an input is allowed or not. \n",
        "The allowRegexes and blockRegexes keyword arguments take a list of regular expression strings to determine what the PyInputPlus function will accept or reject as valid input.\n",
        "\n",
        "#### 6. If a blank input is entered three times, what does inputStr(limit=3) do?\n",
        "##### Ans: It will throw RetryLimitException exception.\n",
        "\n",
        "#### 7. If blank input is entered three times, what does inputStr(limit=3, default='hello') do?\n",
        "##### Ans: When you use limit keyword arguments and also pass a default keyword argument, the function returns the default value instead of raising an exception.\n",
        "\n"
      ],
      "metadata": {
        "id": "jQmDddTNv0O_"
      }
    },
    {
      "cell_type": "code",
      "source": [],
      "metadata": {
        "id": "GKiFQ8uMwcR1"
      },
      "execution_count": null,
      "outputs": []
    }
  ]
}