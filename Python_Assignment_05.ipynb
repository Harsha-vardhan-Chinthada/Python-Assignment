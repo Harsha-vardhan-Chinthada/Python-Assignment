{
  "nbformat": 4,
  "nbformat_minor": 0,
  "metadata": {
    "colab": {
      "provenance": [],
      "collapsed_sections": [],
      "authorship_tag": "ABX9TyMNxSXqS+xC0VW8dtDyb5Nc",
      "include_colab_link": true
    },
    "kernelspec": {
      "name": "python3",
      "display_name": "Python 3"
    },
    "language_info": {
      "name": "python"
    }
  },
  "cells": [
    {
      "cell_type": "markdown",
      "metadata": {
        "id": "view-in-github",
        "colab_type": "text"
      },
      "source": [
        "<a href=\"https://colab.research.google.com/github/Harsha-vardhan-Chinthada/Python-Assignment/blob/main/Python_Assignment_05.ipynb\" target=\"_parent\"><img src=\"https://colab.research.google.com/assets/colab-badge.svg\" alt=\"Open In Colab\"/></a>"
      ]
    },
    {
      "cell_type": "markdown",
      "source": [
        "#### 1. What does an empty dictionary's code look like?\n",
        "##### Two curly brackets: {}"
      ],
      "metadata": {
        "id": "to81VXIyeGiO"
      }
    },
    {
      "cell_type": "markdown",
      "source": [
        "#### 2. What is the value of a dictionary value with the key 'foo' and the value 42?\n",
        "##### {'foo': 42}"
      ],
      "metadata": {
        "id": "OROQgroLeiDh"
      }
    },
    {
      "cell_type": "markdown",
      "source": [
        "#### 3. What is the most significant distinction between a dictionary and a list?\n",
        "##### The items stored in a dictionary are unordered, while the items in a list are ordered."
      ],
      "metadata": {
        "id": "xCKFY1wleueQ"
      }
    },
    {
      "cell_type": "markdown",
      "source": [
        "#### 4. What happens if you try to access spam['foo'] if spam is {'bar': 100}?\n",
        "##### I get a KeyError error."
      ],
      "metadata": {
        "id": "y7kvQ-ile4nt"
      }
    },
    {
      "cell_type": "markdown",
      "source": [
        "#### 5. If a dictionary is stored in spam, what is the difference between the expressions 'cat' in spam and 'cat' in spam.keys()?\n",
        "##### There is no difference. The in operator checks whether a value exists as a key in the dictionary."
      ],
      "metadata": {
        "id": "tvCEBbSjfEGw"
      }
    },
    {
      "cell_type": "markdown",
      "source": [
        "#### 6. If a dictionary is stored in spam, what is the difference between the expressions 'cat' in spam and 'cat' in spam.values()?\n",
        "##### 'cat' in spam checks whether there is a 'cat' key in the dictionary, while 'cat' in spam.values() checks whether there is a value 'cat' for one of the keys in spam."
      ],
      "metadata": {
        "id": "OwhC9DeQfOkL"
      }
    },
    {
      "cell_type": "markdown",
      "source": [
        "#### 7. What is a shortcut for the following code?\n",
        "#### if 'color' not in spam:             \n",
        "#### spam['color'] = 'black'\n",
        "##### We can write spam.setdefault('color', 'black')\n"
      ],
      "metadata": {
        "id": "Mc3UyGcAfe-s"
      }
    },
    {
      "cell_type": "markdown",
      "source": [
        "#### 8. How do you \"pretty print\" dictionary values using which module and function?\n",
        "##### pprint.pprint()"
      ],
      "metadata": {
        "id": "cmru4uZTf3bY"
      }
    }
  ]
}