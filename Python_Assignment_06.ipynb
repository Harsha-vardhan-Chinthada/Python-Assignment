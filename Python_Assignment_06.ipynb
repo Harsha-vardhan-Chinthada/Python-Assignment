{
  "nbformat": 4,
  "nbformat_minor": 0,
  "metadata": {
    "colab": {
      "provenance": [],
      "collapsed_sections": [],
      "authorship_tag": "ABX9TyNbnpg3kSWx2k342iGSgPCP",
      "include_colab_link": true
    },
    "kernelspec": {
      "name": "python3",
      "display_name": "Python 3"
    },
    "language_info": {
      "name": "python"
    }
  },
  "cells": [
    {
      "cell_type": "markdown",
      "metadata": {
        "id": "view-in-github",
        "colab_type": "text"
      },
      "source": [
        "<a href=\"https://colab.research.google.com/github/Harsha-vardhan-Chinthada/Python-Assignment/blob/main/Python_Assignment_06.ipynb\" target=\"_parent\"><img src=\"https://colab.research.google.com/assets/colab-badge.svg\" alt=\"Open In Colab\"/></a>"
      ]
    },
    {
      "cell_type": "markdown",
      "source": [
        "#### 1. What are escape characters, and how do you use them?\n",
        "##### Escape characters represent characters in string values that would otherwise be difficult or impossible to type into code."
      ],
      "metadata": {
        "id": "dDyfc6Ttgybl"
      }
    },
    {
      "cell_type": "markdown",
      "source": [
        "#### 2. What do the escape characters n and t stand for?\n",
        "##### \\n is a newline;\n",
        " \\t is a tab. (Default t gives 4 spaces)."
      ],
      "metadata": {
        "id": "I2NdDMOGlb8u"
      }
    },
    {
      "cell_type": "markdown",
      "source": [
        "#### 3. What is the way to include backslash characters in a string?\n",
        "##### The \\\\\\\\ escape character will represent a \\ (single backslash) character."
      ],
      "metadata": {
        "id": "SevXWjwhlwjG"
      }
    },
    {
      "cell_type": "markdown",
      "source": [
        "#### 4. The string \"Howl's Moving Castle\" is a correct value. Why isn't the single quote character in the word Howl's not escaped a problem?\n",
        "##### The single quote in Howl's is fine because you've used double quotes to mark the beginning and end of the string."
      ],
      "metadata": {
        "id": "5nAMWrN0mGnw"
      }
    },
    {
      "cell_type": "markdown",
      "source": [
        "#### 5. How do you write a string of newlines if you don't want to use the n character?\n",
        "##### Multiline strings allow you to use newlines in strings without the \\n escape character."
      ],
      "metadata": {
        "id": "lX1bgkdAmUNL"
      }
    },
    {
      "cell_type": "markdown",
      "source": [
        "#### 6. What are the values of the given expressions?\n",
        "'Hello, world!'[1]        \n",
        "'Hello, world!'[0:5]            \n",
        "'Hello, world!'[:5]             \n",
        "'Hello, world!'[3:]           \n",
        "\n",
        "##### 'e'\n",
        "\n",
        "'Hello'\n",
        "\n",
        "'Hello'\n",
        "\n",
        "'lo world!"
      ],
      "metadata": {
        "id": "jBPvp55Nmh6c"
      }
    },
    {
      "cell_type": "markdown",
      "source": [
        "#### 7. What are the values of the following expressions?\n",
        "'Hello'.upper()             \n",
        "'Hello'.upper().isupper()            \n",
        "'Hello'.upper().lower()         \n",
        "\n",
        "##### 'HELLO'\n",
        "\n",
        "True\n",
        "\n",
        "'hello'\n"
      ],
      "metadata": {
        "id": "Jh-joLc5m679"
      }
    },
    {
      "cell_type": "markdown",
      "source": [
        "#### 8. What are the values of the following expressions?\n",
        "'Remember, remember, the fifth of July.'.split()         \n",
        "'-'.join('There can only one.'.split())\n",
        "\n",
        "##### ['Remember,', 'remember,', 'the', 'fifth', 'of', 'November.']\n",
        "\n",
        "'There-can-be-only-one.'"
      ],
      "metadata": {
        "id": "rTjWeE2XnIYC"
      }
    },
    {
      "cell_type": "markdown",
      "source": [
        "#### 9. What are the methods for right-justifying, left-justifying, and centering a string?\n",
        "##### The rjust(), ljust(), and center() string methods, respectively."
      ],
      "metadata": {
        "id": "0wCIs30infCW"
      }
    },
    {
      "cell_type": "markdown",
      "source": [
        "#### 10. What is the best way to remove whitespace characters from the start or end?\n",
        "##### The lstrip() and rstrip() methods remove whitespace from the left and right ends of a string, respectively."
      ],
      "metadata": {
        "id": "Nk7oZSNMny8G"
      }
    }
  ]
}