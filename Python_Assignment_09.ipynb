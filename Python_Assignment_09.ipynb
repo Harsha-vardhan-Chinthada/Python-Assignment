{
  "nbformat": 4,
  "nbformat_minor": 0,
  "metadata": {
    "colab": {
      "provenance": [],
      "collapsed_sections": [],
      "authorship_tag": "ABX9TyNndJPzign9mUZEiaRQIxTv",
      "include_colab_link": true
    },
    "kernelspec": {
      "name": "python3",
      "display_name": "Python 3"
    },
    "language_info": {
      "name": "python"
    }
  },
  "cells": [
    {
      "cell_type": "markdown",
      "metadata": {
        "id": "view-in-github",
        "colab_type": "text"
      },
      "source": [
        "<a href=\"https://colab.research.google.com/github/Harsha-vardhan-Chinthada/Python-Assignment/blob/main/Python_Assignment_09.ipynb\" target=\"_parent\"><img src=\"https://colab.research.google.com/assets/colab-badge.svg\" alt=\"Open In Colab\"/></a>"
      ]
    },
    {
      "cell_type": "markdown",
      "source": [
        "### Assignment_09\n",
        "####1. To what does a relative path refer?\n",
        "##### Ans: A Relative path refer to the current working directory.\n",
        "#### 2. What does an absolute path start with your operating system?\n",
        "##### Ans: Absolute path starts with the root folder, such as / or C:\\.\n",
        "#### 3. What do the functions os.getcwd() and os.chdir() do?\n",
        "##### Ans: The os.getcwd() function returns the current working directory and os.chdir() function changes the current working directory. \n",
        "#### 4. What are the . and .. folders?\n",
        "##### Ans: The . folder is current folder and .. folder is parent folder.\n",
        "#### 5. In C:\\bacon\\eggs\\spam.txt, which part is the dir name, and which part is the base name?\n",
        "##### Ans: C:\\bacon\\eggs is the directory name and spam.txt is the base name.\n",
        "#### 6. What are the three “mode” arguments that can be passed to the open() function?\n",
        "##### Ans: The string ‘r’ for read mode, ‘w’ for write mode, ‘a’ for append mode.\n",
        "#### 7. What happens if an existing file is opened in write mode?\n",
        "##### Ans: An existing file opened in write mode is erased and completely overwritten.\n",
        "#### 8. How do you tell the difference between read() and readlines()?\n",
        "##### Ans: The read() method returns the file’s entire contents as a single string value. The readlines() method returns a list of strings, where each string is a line from the file’s contents.\n",
        "#### 9. What data structure does a shelf value resemble?\n",
        "##### Ans: A shelf value resembles a dictionary value; it has keys and values, along with keys() and values() methods that work similarly to the dictionary methods of the same names.\n",
        "\n"
      ],
      "metadata": {
        "id": "syR821NZtTFP"
      }
    }
  ]
}