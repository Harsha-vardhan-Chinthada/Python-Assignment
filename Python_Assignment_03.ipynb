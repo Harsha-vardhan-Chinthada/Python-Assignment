{
  "nbformat": 4,
  "nbformat_minor": 0,
  "metadata": {
    "colab": {
      "provenance": [],
      "collapsed_sections": [],
      "authorship_tag": "ABX9TyNRSJjAUEPIykKymFUF6rl2",
      "include_colab_link": true
    },
    "kernelspec": {
      "name": "python3",
      "display_name": "Python 3"
    },
    "language_info": {
      "name": "python"
    }
  },
  "cells": [
    {
      "cell_type": "markdown",
      "metadata": {
        "id": "view-in-github",
        "colab_type": "text"
      },
      "source": [
        "<a href=\"https://colab.research.google.com/github/Harsha-vardhan-Chinthada/Python-Assignment/blob/main/Python_Assignment_03.ipynb\" target=\"_parent\"><img src=\"https://colab.research.google.com/assets/colab-badge.svg\" alt=\"Open In Colab\"/></a>"
      ]
    },
    {
      "cell_type": "markdown",
      "source": [
        "#### 1. Why are functions advantageous to have in your programs?\n",
        "##### Functions reduce the need for duplicate code. This makes programs shorter, easier to read, and easier to update."
      ],
      "metadata": {
        "id": "pX2w8iJsOaHY"
      }
    },
    {
      "cell_type": "markdown",
      "source": [
        "#### 2. When does the code in a function run: when it's specified or when it's called?\n",
        "##### The code in a function executes when the function is called, not when the function is defined."
      ],
      "metadata": {
        "id": "Nv-dFzQcOiAJ"
      }
    },
    {
      "cell_type": "markdown",
      "source": [
        "#### 3. What statement creates a function?\n",
        "##### The def statement defines or creates a function."
      ],
      "metadata": {
        "id": "poLRgTLcOrDX"
      }
    },
    {
      "cell_type": "markdown",
      "source": [
        "#### 4. What is the difference between a function and a function call?\n",
        "##### A function consists of the def statement and the code in its def clause.\n",
        "\n",
        "A function call is what moves the program execution into the function, and the function call evaluates to the function's result value."
      ],
      "metadata": {
        "id": "3SLqIVTnO76J"
      }
    },
    {
      "cell_type": "markdown",
      "source": [
        "#### 5. How many global scopes are there in a Python program? How many local scopes?\n",
        "##### There is only one global scope, and one local scope is created whenever a function is called."
      ],
      "metadata": {
        "id": "4hb3X9isPTrH"
      }
    },
    {
      "cell_type": "markdown",
      "source": [
        "#### 6. What happens to variables in a local scope when the function call returns?\n",
        "##### When a function returns, the local scope is destroyed, and all the variables in it are forgotten."
      ],
      "metadata": {
        "id": "rxpupUMgPmq5"
      }
    },
    {
      "cell_type": "markdown",
      "source": [
        "#### 7. What is the concept of a return value? Is it possible to have a return value in an expression?\n",
        "##### A return value is the value that a function call evaluates to.      \n",
        "Like any other value, a return value can be used as part of an expression."
      ],
      "metadata": {
        "id": "sdqICHpDPztA"
      }
    },
    {
      "cell_type": "markdown",
      "source": [
        "#### 8. If a function does not have a return statement, what is the return value of a call to that function?\n",
        "##### If there is no return statement for a function, then its return value is None."
      ],
      "metadata": {
        "id": "mMQvIex5QMh8"
      }
    },
    {
      "cell_type": "markdown",
      "source": [
        "#### 9. How do you make a function variable refer to the global variable?\n",
        "##### A global statement will force a variable in a function to refer to the global variable."
      ],
      "metadata": {
        "id": "j_bUWWLWQcAt"
      }
    },
    {
      "cell_type": "markdown",
      "source": [
        "#### 10. What is the data type of None?\n",
        "##### The data type of None is NoneType."
      ],
      "metadata": {
        "id": "DadlPcIgQpog"
      }
    },
    {
      "cell_type": "markdown",
      "source": [
        "#### 11. What does the sentence import areallyourpetsnamederic do?\n",
        "##### That import statement imports a module named areallyourpetsnamederic."
      ],
      "metadata": {
        "id": "pL9tVVdPQ0L2"
      }
    },
    {
      "cell_type": "markdown",
      "source": [
        "#### 12. If you had a bacon() feature in a spam module, what would you call it after importing spam?\n",
        "##### This function can be called by spam.bacon() ."
      ],
      "metadata": {
        "id": "W6Zzjqq5RpDM"
      }
    },
    {
      "cell_type": "markdown",
      "source": [
        "#### 13. What can you do to save a programme from crashing if it encounters an error?\n",
        "##### We can write the line of code that might cause an error in a try clause."
      ],
      "metadata": {
        "id": "SkSg3p4_R4bM"
      }
    },
    {
      "cell_type": "markdown",
      "source": [
        "#### 14. What is the purpose of the try clause? What is the purpose of the except clause?\n",
        "##### The code that could potentially cause an error goes in the try clause.\n",
        "\n",
        "The code that executes if an error happens goes in the except clause."
      ],
      "metadata": {
        "id": "7cUAtp12SLgN"
      }
    }
  ]
}