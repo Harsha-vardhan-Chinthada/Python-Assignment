{
  "nbformat": 4,
  "nbformat_minor": 0,
  "metadata": {
    "colab": {
      "provenance": [],
      "collapsed_sections": [],
      "authorship_tag": "ABX9TyMGcrBzMnYhUA/jyyFWgNFe",
      "include_colab_link": true
    },
    "kernelspec": {
      "name": "python3",
      "display_name": "Python 3"
    },
    "language_info": {
      "name": "python"
    }
  },
  "cells": [
    {
      "cell_type": "markdown",
      "metadata": {
        "id": "view-in-github",
        "colab_type": "text"
      },
      "source": [
        "<a href=\"https://colab.research.google.com/github/Harsha-vardhan-Chinthada/Python-Assignment/blob/main/Python_Assignment_6.ipynb\" target=\"_parent\"><img src=\"https://colab.research.google.com/assets/colab-badge.svg\" alt=\"Open In Colab\"/></a>"
      ]
    },
    {
      "cell_type": "markdown",
      "source": [
        "### Python Programming Assignment 6"
      ],
      "metadata": {
        "id": "Z6gscf3PjbyS"
      }
    },
    {
      "cell_type": "code",
      "execution_count": null,
      "metadata": {
        "id": "hxeNteOvjWIE"
      },
      "outputs": [],
      "source": [
        "# 1. Write a Python Program to Display Fibonacci Sequence Using Recursion?\n",
        "\n",
        "n = int(input(\"Please enter a number: \"))\n",
        "def Fibonacci(n):\n",
        "  if n < 0:\n",
        "      print(\"Invalid input. \")\n",
        "\n",
        "  elif n == 0:\n",
        "      return 0\n",
        "\n",
        "  elif n == 1 or n == 2:\n",
        "      return 1\n",
        "\n",
        "  else:\n",
        "      return Fibonacci(n-1) + Fibonacci(n-2)\n",
        "print(Fibonacci(n))\n"
      ]
    },
    {
      "cell_type": "code",
      "source": [
        "# 2. Write a Python Program to Find Factorial of Number Using Recursion?\n",
        "\n",
        "n = int(input(\"Please enter a number: \"))\n",
        "\n",
        "def Factorial(n):\n",
        "  if n < 0:\n",
        "    print(\"Incorrect input.\")\n",
        "  elif n == 0 or n == 1:\n",
        "    return 1\n",
        "  else:\n",
        "    return n*Factorial(n-1)\n",
        "print(f\"Factorial of {n} is: \",Factorial(n))\n",
        "\n"
      ],
      "metadata": {
        "id": "f_ZUliSFokPK"
      },
      "execution_count": null,
      "outputs": []
    },
    {
      "cell_type": "code",
      "source": [
        "# 3. Write a Python Program to calculate your Body Mass Index?\n",
        "\n",
        "W = float(input(\"Please enter the Weight in kgs. : \"))\n",
        "H = float(input(\"Please enter the Height in mts. : \"))\n",
        "\n",
        "BMI = W/H**2\n",
        "print(\"Body Mass Index is: \",BMI)\n",
        "\n"
      ],
      "metadata": {
        "id": "5lB8bYyVsT1t"
      },
      "execution_count": null,
      "outputs": []
    },
    {
      "cell_type": "code",
      "source": [
        "# 4. Write a Python Program to calculate the natural logarithm of any number?\n",
        "\n",
        "import math\n",
        "n = float(input(\"Please enter a number: \"))\n",
        "\n",
        "print (math.log(n))\n"
      ],
      "metadata": {
        "id": "SOpAAznStkoe"
      },
      "execution_count": null,
      "outputs": []
    },
    {
      "cell_type": "code",
      "source": [
        "# 5. Write a Python Program for cube sum of first n natural numbers?\n",
        "\n",
        "n = int(input(\"Please enter a number: \"))\n",
        "s = 0\n",
        "for i in range(1, n+1):\n",
        "  if n <= 0:\n",
        "    print(\"Incorrect input.\")\n",
        "  else :\n",
        "    s = s + (i**3)\n",
        "print(f\"Cube sum of first {n} natural numbers is: {s}.\") \n"
      ],
      "metadata": {
        "id": "1BJKFOw50JHC"
      },
      "execution_count": null,
      "outputs": []
    }
  ]
}