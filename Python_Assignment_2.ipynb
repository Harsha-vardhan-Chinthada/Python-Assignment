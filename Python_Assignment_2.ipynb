{
  "nbformat": 4,
  "nbformat_minor": 0,
  "metadata": {
    "colab": {
      "provenance": [],
      "collapsed_sections": [],
      "authorship_tag": "ABX9TyODOZ6le5U3B+WV0WRJPtM+",
      "include_colab_link": true
    },
    "kernelspec": {
      "name": "python3",
      "display_name": "Python 3"
    },
    "language_info": {
      "name": "python"
    }
  },
  "cells": [
    {
      "cell_type": "markdown",
      "metadata": {
        "id": "view-in-github",
        "colab_type": "text"
      },
      "source": [
        "<a href=\"https://colab.research.google.com/github/Harsha-vardhan-Chinthada/Python-Assignment/blob/main/Python_Assignment_2.ipynb\" target=\"_parent\"><img src=\"https://colab.research.google.com/assets/colab-badge.svg\" alt=\"Open In Colab\"/></a>"
      ]
    },
    {
      "cell_type": "code",
      "execution_count": null,
      "metadata": {
        "id": "g3w3YM_1Luxw"
      },
      "outputs": [],
      "source": [
        "# 1. Write a Python program to convert kilometers to miles?\n",
        "km = int(input(\"Please enter the no. of kilometers: \"))\n",
        "miles = km*0.621371\n",
        "print(f\"kilometers in miles: {miles}\")\n"
      ]
    },
    {
      "cell_type": "code",
      "source": [
        "# 2. Write a Python program to convert Celsius to Fahrenheit?\n",
        "C = int(input(\"Please enter the temperature in Celsius: \"))\n",
        "F = (C*9/5)+32\n",
        "print(f\"Temperature in Fahrenheit: {F}\")\n"
      ],
      "metadata": {
        "id": "Z5u4AtY8QglT"
      },
      "execution_count": null,
      "outputs": []
    },
    {
      "cell_type": "code",
      "source": [
        "# 3. Write a Python program to display calendar?\n",
        "import calendar\n",
        "yy = int(input(\"Please enter the year: \"))\n",
        "mm = int(input(\"Please enter the month: \"))\n",
        "print(\"Calendar of the month: \",calendar.month(yy, mm))\n"
      ],
      "metadata": {
        "id": "dCP3ciXCRlLI"
      },
      "execution_count": null,
      "outputs": []
    },
    {
      "cell_type": "code",
      "source": [
        "# 4. Write a Python program to solve quadratic equation?\n",
        "\n",
        "import cmath\n",
        "a = int(input(\"Please enter the value of 'a' (shouldn't be 0): \"))\n",
        "b = int(input(\"Please enter the value of b: \"))\n",
        "c = int(input(\"Please enter the value of c: \"))\n",
        "\n",
        "d = cmath.sqrt(b*b - 4*a*c)\n",
        "root_1 = (-b + d)/2*a\n",
        "root_2 = (-b - d)/2*a\n",
        "\n",
        "print(f\"The roots are: {root_1}, {root_2}\")"
      ],
      "metadata": {
        "id": "ho4fdPhSSp_9"
      },
      "execution_count": null,
      "outputs": []
    },
    {
      "cell_type": "code",
      "source": [
        "# 5. Write a Python program to swap two variables without temp variable?\n",
        "\n",
        "x = 10\n",
        "y = 20\n",
        "\n",
        "x,y = y,x\n",
        "print(f\"The value of x: {x}\")\n",
        "print(f\"The value of y: {y}\")\n"
      ],
      "metadata": {
        "id": "k3_KgqlBV9ey"
      },
      "execution_count": null,
      "outputs": []
    }
  ]
}