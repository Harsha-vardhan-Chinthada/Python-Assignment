{
  "nbformat": 4,
  "nbformat_minor": 0,
  "metadata": {
    "colab": {
      "provenance": [],
      "collapsed_sections": [],
      "authorship_tag": "ABX9TyOksxh0JtBKbs3mm2xi1ZoE",
      "include_colab_link": true
    },
    "kernelspec": {
      "name": "python3",
      "display_name": "Python 3"
    },
    "language_info": {
      "name": "python"
    }
  },
  "cells": [
    {
      "cell_type": "markdown",
      "metadata": {
        "id": "view-in-github",
        "colab_type": "text"
      },
      "source": [
        "<a href=\"https://colab.research.google.com/github/Harsha-vardhan-Chinthada/Python-Assignment/blob/main/Python_Assignment_04.ipynb\" target=\"_parent\"><img src=\"https://colab.research.google.com/assets/colab-badge.svg\" alt=\"Open In Colab\"/></a>"
      ]
    },
    {
      "cell_type": "markdown",
      "source": [
        "#### 1. What exactly is []?\n",
        "##### The empty list value, which is a list value that contains no items."
      ],
      "metadata": {
        "id": "a_xG9UPvTYTX"
      }
    },
    {
      "cell_type": "code",
      "source": [
        "\"\"\" 2. In a list of values stored in a variable called spam, how would you assign the value 'hello' as the third value? \n",
        "(Assume [2, 4, 6, 8, 10] are in spam.) \"\"\"\n",
        "spam = [2, 4, 6, 8, 10]\n",
        "spam[2] = \"hello\"\n",
        "print(spam)"
      ],
      "metadata": {
        "id": "kIoJsfurTfUY"
      },
      "execution_count": null,
      "outputs": []
    },
    {
      "cell_type": "markdown",
      "source": [
        "### Let's pretend the spam includes the list ['a', 'b', 'c', 'd'] for the next three queries."
      ],
      "metadata": {
        "id": "IR_S69ydXFX1"
      }
    },
    {
      "cell_type": "markdown",
      "source": [
        "#### 3. What is the value of spam[int(int('3' * 2) / 11)]?\n",
        "##### d\n",
        "Explanation: int('3'*2)/11 gives int('33')/11 which becomes 3\n",
        "and int(3) gives 3 then spam[3] is d beacuse the third element in spam 'd' counting from 0."
      ],
      "metadata": {
        "id": "d5tbRF3FVQRb"
      }
    },
    {
      "cell_type": "markdown",
      "source": [
        "#### 4. What is the value of spam[-1]?\n",
        "##### 'd'."
      ],
      "metadata": {
        "id": "HouKhd1UW9dX"
      }
    },
    {
      "cell_type": "markdown",
      "source": [
        "#### 5. What is the value of spam[:2]?\n",
        "#### ['a', 'b']"
      ],
      "metadata": {
        "id": "9ZfZnIwPXWth"
      }
    },
    {
      "cell_type": "markdown",
      "source": [
        "### Let's pretend bacon has the list [3.14, 'cat,' 11, 'cat,' True] for the next three questions."
      ],
      "metadata": {
        "id": "C_gssf_hX0iM"
      }
    },
    {
      "cell_type": "markdown",
      "source": [
        "#### 6. What is the value of bacon.index('cat')?\n",
        "##### 1.\n",
        "\n",
        "####7. How does bacon.append(99) change the look of the list value in bacon?\n",
        "##### [3.14, 'cat', 11, 'cat', True, 99]\n",
        "\n",
        "####8. How does bacon.remove('cat') change the look of the list in bacon?\n",
        "##### [3.14, 11, 'cat', True]"
      ],
      "metadata": {
        "id": "XeZ-BIrkX3Hv"
      }
    },
    {
      "cell_type": "markdown",
      "source": [
        "#### 9. What are the list concatenation and list replication operators?\n",
        "##### The operator for list concatenation is +, while the operator for replication is *."
      ],
      "metadata": {
        "id": "iv7zIgI0ZzhT"
      }
    },
    {
      "cell_type": "markdown",
      "source": [
        "#### 10. What is difference between the list methods append() and insert()?\n",
        "##### append() in list add elements in the of end the given list, while insert() will add an element in certain position where we want add."
      ],
      "metadata": {
        "id": "FxPOxcFyaIRV"
      }
    },
    {
      "cell_type": "markdown",
      "source": [
        "#### 11. What are the two methods for removing items from a list?\n",
        "##### The del statement and the remove() list method are two ways to remove values from a list."
      ],
      "metadata": {
        "id": "euSO4bJta2cd"
      }
    },
    {
      "cell_type": "markdown",
      "source": [
        "#### 12. Describe how list values and string values are identical.\n",
        "##### Both lists and strings can be passed to len(), have indexes and slices, can be used in for loops, can be concatenated or replicated, and can be used with the in and not in operators."
      ],
      "metadata": {
        "id": "HYFwyKBWbBAv"
      }
    },
    {
      "cell_type": "markdown",
      "source": [
        "#### 13. What's the difference between tuples and lists?\n",
        "##### Lists are mutable; they can have values added, removed, or changed. Tuples are immutable; they cannot be changed at all. Also, tuples are written using parentheses, ( and ), while lists use the square brackets, [ and ]."
      ],
      "metadata": {
        "id": "A4JHkyB4bYD4"
      }
    },
    {
      "cell_type": "markdown",
      "source": [
        "#### 14. How do you type a tuple value that only contains the integer 42?\n",
        "##### (42,) (The trailing comma is mandatory, otherwise it will be taken as an int type.)"
      ],
      "metadata": {
        "id": "0qwVkLTibksv"
      }
    },
    {
      "cell_type": "markdown",
      "source": [
        "#### 15. How do you get a list value's tuple form? How do you get a tuple value's list form?\n",
        "##### The tuple() and list() functions, respectively."
      ],
      "metadata": {
        "id": "JVHyiz2icRhr"
      }
    },
    {
      "cell_type": "markdown",
      "source": [
        "#### 16. Variables that \"contain\" list values are not necessarily lists themselves. Instead, what do they contain?\n",
        "##### They contain references to list values."
      ],
      "metadata": {
        "id": "s5dRUlqZcv0f"
      }
    },
    {
      "cell_type": "markdown",
      "source": [
        "#### 17. How do you distinguish between copy.copy() and copy.deepcopy()?\n",
        "##### The copy.copy() function will do a shallow copy of a list, while the copy.deepcopy() function will do a deep copy of a list.\n",
        "That is, only copy.deepcopy() will duplicate any lists inside the list."
      ],
      "metadata": {
        "id": "D6z8Y-Npc56S"
      }
    }
  ]
}