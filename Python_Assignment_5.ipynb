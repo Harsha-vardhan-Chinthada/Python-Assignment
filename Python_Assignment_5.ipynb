{
  "nbformat": 4,
  "nbformat_minor": 0,
  "metadata": {
    "colab": {
      "provenance": [],
      "collapsed_sections": [],
      "authorship_tag": "ABX9TyPdPpA1Ou1JS3QFF+5peXOx",
      "include_colab_link": true
    },
    "kernelspec": {
      "name": "python3",
      "display_name": "Python 3"
    },
    "language_info": {
      "name": "python"
    }
  },
  "cells": [
    {
      "cell_type": "markdown",
      "metadata": {
        "id": "view-in-github",
        "colab_type": "text"
      },
      "source": [
        "<a href=\"https://colab.research.google.com/github/Harsha-vardhan-Chinthada/Python-Assignment/blob/main/Python_Assignment_5.ipynb\" target=\"_parent\"><img src=\"https://colab.research.google.com/assets/colab-badge.svg\" alt=\"Open In Colab\"/></a>"
      ]
    },
    {
      "cell_type": "markdown",
      "source": [
        "### Python Programming Assignment 5"
      ],
      "metadata": {
        "id": "JMhKh74yNpPN"
      }
    },
    {
      "cell_type": "code",
      "execution_count": null,
      "metadata": {
        "id": "Ew3_dzZzNeId"
      },
      "outputs": [],
      "source": [
        "# 1. Write a Python Program to Find LCM?\n",
        "\n",
        "a = int(input(\"Please enter a number: \"))\n",
        "b = int(input(\"Please enter a number: \"))\n",
        "\n",
        "def get_lcm(a, b):\n",
        "  if a > b:\n",
        "    greater = a\n",
        "  else:\n",
        "    greater = b\n",
        "  while(True):\n",
        "    if((greater % a == 0) and (greater % b == 0)):\n",
        "      lcm = greater\n",
        "      break\n",
        "    greater += 1\n",
        "  return lcm\n",
        "print(\"LCM of \",a, \"and\", b, \"is\", get_lcm(a, b))\n"
      ]
    },
    {
      "cell_type": "code",
      "source": [
        "# 2. Write a Python Program to Find HCF?\n",
        "\n",
        "a = int(input(\"Please enter a number: \"))\n",
        "b = int(input(\"Please enter a number: \"))\n",
        "\n",
        "def get_hcf(a, b):\n",
        "  if a > b:\n",
        "    smaller = b\n",
        "  else:\n",
        "    smaller = a\n",
        "  for i in range(1, smaller+1):\n",
        "    if ((a%i == 0) and (b%i == 0 )):\n",
        "      hcf = i\n",
        "  return hcf\n",
        "\n",
        "print(\"HCF of \",a,\" and \",b, \"is \",get_hcf(a, b))\n"
      ],
      "metadata": {
        "id": "L0IEy03KWdPY"
      },
      "execution_count": null,
      "outputs": []
    },
    {
      "cell_type": "code",
      "source": [
        "# 3. Write a Python Program to Convert Decimal to Binary, Octal and Hexadecimal?\n",
        "\n",
        "d = int(input(\"Please enter a number: \"))\n",
        "print(f\"The decimal you have entered is: {d}\")\n",
        "print(\"Binary value of \",d, \"is \",bin(d))\n",
        "print(\"Octal value of \",d, \"is \",oct(d))\n",
        "print(\"Hexadecimal value of \",d, \"is \",hex(d))\n"
      ],
      "metadata": {
        "id": "D9oxjysyYyWk"
      },
      "execution_count": null,
      "outputs": []
    },
    {
      "cell_type": "code",
      "source": [
        "# 4. Write a Python Program To Find ASCII value of a character?\n",
        "\n",
        "text = input(\"Please enter a string: \")\n",
        "textlength = len(text)\n",
        "for char in text:\n",
        "  ascii = ord(char)\n",
        "  print(char, \"\\t\", ascii)\n",
        "\n"
      ],
      "metadata": {
        "id": "UgAXlyz9b_ZC"
      },
      "execution_count": null,
      "outputs": []
    },
    {
      "cell_type": "code",
      "source": [
        "# 5. Write a Python Program to Make a Simple Calculator with 4 basic mathematical operations?\n",
        "\n",
        "def add(x, y):\n",
        "    return x + y\n",
        "\n",
        "def subtract(x, y):\n",
        "    return x - y\n",
        "\n",
        "def multiply(x, y):\n",
        "    return x * y\n",
        "\n",
        "def divide(x, y):\n",
        "    return x / y\n",
        "\n",
        "\n",
        "print(\"Select operation.\")\n",
        "print(\"1.Add\")\n",
        "print(\"2.Subtract\")\n",
        "print(\"3.Multiply\")\n",
        "print(\"4.Divide\")\n",
        "\n",
        "while True:\n",
        "    choice = input(\"Enter choice(1/2/3/4): \")\n",
        "\n",
        "    if choice in ('1', '2', '3', '4'):\n",
        "        num1 = float(input(\"Enter first number: \"))\n",
        "        num2 = float(input(\"Enter second number: \"))\n",
        "\n",
        "        if choice == '1':\n",
        "            print(num1, \"+\", num2, \"=\", add(num1, num2))\n",
        "\n",
        "        elif choice == '2':\n",
        "            print(num1, \"-\", num2, \"=\", subtract(num1, num2))\n",
        "\n",
        "        elif choice == '3':\n",
        "            print(num1, \"*\", num2, \"=\", multiply(num1, num2))\n",
        "\n",
        "        elif choice == '4':\n",
        "            print(num1, \"/\", num2, \"=\", divide(num1, num2))\n",
        "        \n",
        "        next_calculation = input(\"Let's do next calculation? (yes/no): \")\n",
        "        if next_calculation == \"no\":\n",
        "          break\n",
        "    \n",
        "    else:\n",
        "        print(\"Invalid Input\")\n",
        "\n",
        "\n"
      ],
      "metadata": {
        "id": "cx45FfX_d2oF"
      },
      "execution_count": null,
      "outputs": []
    }
  ]
}