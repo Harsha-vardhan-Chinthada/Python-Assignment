{
  "nbformat": 4,
  "nbformat_minor": 0,
  "metadata": {
    "colab": {
      "provenance": [],
      "collapsed_sections": [],
      "authorship_tag": "ABX9TyOzoimEEFKWA2jWczEFBv7e",
      "include_colab_link": true
    },
    "kernelspec": {
      "name": "python3",
      "display_name": "Python 3"
    },
    "language_info": {
      "name": "python"
    }
  },
  "cells": [
    {
      "cell_type": "markdown",
      "metadata": {
        "id": "view-in-github",
        "colab_type": "text"
      },
      "source": [
        "<a href=\"https://colab.research.google.com/github/Harsha-vardhan-Chinthada/Python-Assignment/blob/main/Python_Assignment_1.ipynb\" target=\"_parent\"><img src=\"https://colab.research.google.com/assets/colab-badge.svg\" alt=\"Open In Colab\"/></a>"
      ]
    },
    {
      "cell_type": "markdown",
      "source": [
        "### Python Programming Assignment 1"
      ],
      "metadata": {
        "id": "fYATxenzK-iL"
      }
    },
    {
      "cell_type": "code",
      "execution_count": null,
      "metadata": {
        "id": "3Jxs7uUYF0-Y"
      },
      "outputs": [],
      "source": [
        "# 1. Write a Python program to print \"Hello Python\"?\n",
        "print(\"Hello Python\")"
      ]
    },
    {
      "cell_type": "code",
      "source": [
        "# 2. Write a Python program to do arithmetical operations addition and division.?\n",
        "a, b = 8,2\n",
        "sum = a+b\n",
        "quotient = a/b\n",
        "print(f\"Sum of a and b is: {sum}\")\n",
        "print(f\"Quotient when a is divided by b is: {quotient}\")"
      ],
      "metadata": {
        "id": "ERO4ejfjGNNK"
      },
      "execution_count": null,
      "outputs": []
    },
    {
      "cell_type": "code",
      "source": [
        "# 3. Write a Python program to find the area of a triangle?\n",
        "b = int(input(\"Please enter the Base of the Triangle: \"))\n",
        "h = int(input(\"Please enter the Height of the Triangle: \"))\n",
        "area = b*h/2\n",
        "print(f\"Area of the Triangle is: {area}\")\n"
      ],
      "metadata": {
        "id": "QbuL1PlCHh4H"
      },
      "execution_count": null,
      "outputs": []
    },
    {
      "cell_type": "code",
      "source": [
        "# 4. Write a Python program to swap two variables?\n",
        "a = 10\n",
        "b = 20\n",
        "# Swapping of two variables using third variable\n",
        "temp = a\n",
        "a = b\n",
        "b = temp\n",
        "print(\"The value of a is: \",a)\n",
        "print(\"The value of b is: \",b)\n",
        "\n",
        "# Swapping without using third variable\n",
        "x = 11\n",
        "y = 22\n",
        "x, y = y, x\n",
        "print(\"The value of x is: \",x)\n",
        "print(\"The value of y is: \",y)\n",
        "\n"
      ],
      "metadata": {
        "id": "biTA975zIVgK"
      },
      "execution_count": null,
      "outputs": []
    },
    {
      "cell_type": "code",
      "source": [
        "# 5. Write a Python program to generate a random number?\n",
        "import random\n",
        "n = random.randint(0, 100)\n",
        "print(n)\n"
      ],
      "metadata": {
        "id": "e2BufwrVJvEs"
      },
      "execution_count": null,
      "outputs": []
    }
  ]
}