{
  "nbformat": 4,
  "nbformat_minor": 0,
  "metadata": {
    "colab": {
      "provenance": [],
      "collapsed_sections": [],
      "authorship_tag": "ABX9TyOIWZxKO/dRLhvs0G3HfiBm",
      "include_colab_link": true
    },
    "kernelspec": {
      "name": "python3",
      "display_name": "Python 3"
    },
    "language_info": {
      "name": "python"
    }
  },
  "cells": [
    {
      "cell_type": "markdown",
      "metadata": {
        "id": "view-in-github",
        "colab_type": "text"
      },
      "source": [
        "<a href=\"https://colab.research.google.com/github/Harsha-vardhan-Chinthada/Python-Assignment/blob/main/Python_Assignment_01.ipynb\" target=\"_parent\"><img src=\"https://colab.research.google.com/assets/colab-badge.svg\" alt=\"Open In Colab\"/></a>"
      ]
    },
    {
      "cell_type": "markdown",
      "source": [
        "#### 1. In the below elements which of them are values or an expression?eg:- values can be integer or string and expressions will be mathematical operators.\n",
        "A) *     ---> Is an Expression (Mathematical Operator - Denotes Multiplication).                   \n",
        "B) 'hello' ---> Is a Value (String).           \n",
        "C) -87.8   ---> Is a Value (Float).        \n",
        "D) -       ---> Is an Expression (Mathematical Operator - Denotes Subtraction).        \n",
        "E) /       ---> Is an Expression (Mathematical Operator - Denotes Division).\n",
        "F) +       ---> Is an Expression (Mathematical Operator - Denotes Addition).        \n",
        "G) 6       ---> Is a Value (Integer)."
      ],
      "metadata": {
        "id": "E-e6p5qJulgN"
      }
    },
    {
      "cell_type": "markdown",
      "source": [
        "#### 2. What is the difference between string and variable?\n",
        "A String is a data type in Python.       \n",
        "Ex: \"India\"       \n",
        "Whereas A Variable in Python is container for storing Data values."
      ],
      "metadata": {
        "id": "tUOJDd6Qx7kh"
      }
    },
    {
      "cell_type": "markdown",
      "source": [
        "#### 3. Describe three different data types.\n",
        "Text Type:\tstr      \n",
        "Numeric Types:\tint, float, complex            \n",
        "Sequence Types:\tlist, tuple, range"
      ],
      "metadata": {
        "id": "Bfp9BADey4hG"
      }
    },
    {
      "cell_type": "markdown",
      "source": [
        "#### 4. What is an expression made up of? What do all expressions do?\n",
        "An Expression is a combination of an Operator and an Operand.       \n",
        "An Expression will try to interpret some value based on operator and operand in the expression."
      ],
      "metadata": {
        "id": "Zghnw6whz9Wv"
      }
    },
    {
      "cell_type": "markdown",
      "source": [
        "#### 5. This assignment statements, like spam = 10. What is the difference between an expression and a statement?\n",
        "An Expression evaluates and returns a single value while a statement does not do that."
      ],
      "metadata": {
        "id": "CRLP5bq_63ie"
      }
    },
    {
      "cell_type": "markdown",
      "source": [
        "#### 6. After running the following code, what does the variable bacon contain?\n",
        "bacon = 22         \n",
        "bacon + 1        \n",
        "bacon will contain a value of 23.\n",
        "\n"
      ],
      "metadata": {
        "id": "MwGycdfb7ZQc"
      }
    },
    {
      "cell_type": "markdown",
      "source": [
        "#### 7. What should the values of the following two terms be?\n",
        "a = 'spam' + 'spamspam'                \n",
        "b = 'spam' * 3                      \n",
        "a will return spamspamspam             \n",
        "b will return spamspamspam"
      ],
      "metadata": {
        "id": "A0ENwzOC8Ckx"
      }
    },
    {
      "cell_type": "markdown",
      "source": [
        "#### 8. Why is eggs a valid variable name while 100 is invalid?\n",
        "eggs can be valid variable name because it is starting with an alphabet on the other hand 100 cannot be a valid variable name because variable name cannot be start with numeric value in Python."
      ],
      "metadata": {
        "id": "JiBajp9Y8sOY"
      }
    },
    {
      "cell_type": "markdown",
      "source": [
        "#### 9. What three functions can be used to get the integer, floating-point number, or string version of a value?\n",
        "The int(), float(), and str() functions will evaluate to the integer, floating-point number, and string versions of the value passed to them."
      ],
      "metadata": {
        "id": "eBox3LQ49fZY"
      }
    },
    {
      "cell_type": "markdown",
      "source": [
        "#### 10. Why does this expression cause an error? How can you fix it?\n",
        "'I have eaten ' + 99 + ' burritos.'                   \n",
        "The above expression causes an error because 99 is an integer and only string type of data value can be concatenated to a string by the + operator.                  \n",
        "So the correct way of writing it is \"I have eaten\" + \"99\" + \"burritos\"."
      ],
      "metadata": {
        "id": "V9xqtKbd98py"
      }
    }
  ]
}